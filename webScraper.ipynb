{
 "cells": [
  {
   "cell_type": "code",
   "execution_count": 1,
   "metadata": {
    "collapsed": true
   },
   "outputs": [],
   "source": [
    "# import libraries\n",
    "import urllib2\n",
    "from bs4 import BeautifulSoup"
   ]
  },
  {
   "cell_type": "code",
   "execution_count": 2,
   "metadata": {
    "collapsed": true
   },
   "outputs": [],
   "source": [
    "# specify the url\n",
    "quote_page = 'http://bodyweight-workout.com/en/freeletics-workouts/'"
   ]
  },
  {
   "cell_type": "code",
   "execution_count": 3,
   "metadata": {
    "collapsed": true
   },
   "outputs": [],
   "source": [
    "# query the website and return the html to the variable ‘page’\n",
    "page = urllib2.urlopen(quote_page)"
   ]
  },
  {
   "cell_type": "code",
   "execution_count": 4,
   "metadata": {},
   "outputs": [],
   "source": [
    "# parse the html using beautiful soup and store in variable `soup`\n",
    "soup = BeautifulSoup(page, 'html.parser')"
   ]
  },
  {
   "cell_type": "code",
   "execution_count": 5,
   "metadata": {},
   "outputs": [],
   "source": [
    "pages = soup.find('article').findAll('a')"
   ]
  },
  {
   "cell_type": "code",
   "execution_count": 7,
   "metadata": {},
   "outputs": [],
   "source": [
    "allLinks = soup.select('.column-inner a[href]')"
   ]
  },
  {
   "cell_type": "code",
   "execution_count": 11,
   "metadata": {},
   "outputs": [
    {
     "name": "stdout",
     "output_type": "stream",
     "text": [
      "http://bodyweight-workout.com/en/freeletics-workouts/freeletics-aphrodite/\n",
      "http://bodyweight-workout.com/en/freeletics-workouts/freeletics-apollon/\n",
      "http://bodyweight-workout.com/en/freeletics-workouts/freeletics-ares/\n",
      "http://bodyweight-workout.com/en/freeletics-workouts/freeletics-artemis/\n",
      "http://bodyweight-workout.com/en/freeletics-workouts/freeletics-athena/\n",
      "http://bodyweight-workout.com/en/freeletics-workouts/freeletics-atlas/\n",
      "http://bodyweight-workout.com/en/freeletics-workouts/freeletics-dione/\n",
      "http://bodyweight-workout.com/en/freeletics-workouts/freeletics-gaia/\n",
      "http://bodyweight-workout.com/en/freeletics-workouts/freeletics-hades/\n",
      "http://bodyweight-workout.com/en/freeletics-workouts/freeletics-helios/\n",
      "http://bodyweight-workout.com/en/freeletics-workouts/freeletics-hera/\n",
      "http://bodyweight-workout.com/en/freeletics-workouts/freeletics-hermes/\n",
      "http://bodyweight-workout.com/en/freeletics-workouts/freeletics-hyperion/\n",
      "http://bodyweight-workout.com/en/freeletics-workouts/freeletics-iris/\n",
      "http://bodyweight-workout.com/en/freeletics-workouts/freeletics-kentauros/\n",
      "http://bodyweight-workout.com/en/freeletics-workouts/freeletics-krios/\n",
      "http://bodyweight-workout.com/en/freeletics-workouts/freeletics-kronos/\n",
      "http://bodyweight-workout.com/en/freeletics-workouts/freeletics-metis/\n",
      "http://bodyweight-workout.com/en/freeletics-workouts/freeletics-morpheus/\n",
      "http://bodyweight-workout.com/en/freeletics-workouts/freeletics-nemesis/\n",
      "http://bodyweight-workout.com/en/freeletics-workouts/freeletics-nyx/\n",
      "http://bodyweight-workout.com/en/freeletics-workouts/freeletics-persephone/\n",
      "http://bodyweight-workout.com/en/freeletics-workouts/freeletics-poseidon/\n",
      "http://bodyweight-workout.com/en/freeletics-workouts/freeletics-prometheus/\n",
      "http://bodyweight-workout.com/en/freeletics-workouts/freeletics-thanatos/\n",
      "http://bodyweight-workout.com/en/freeletics-workouts/freeletics-triton/\n",
      "http://bodyweight-workout.com/en/freeletics-workouts/freeletics-uranos/\n",
      "http://bodyweight-workout.com/en/freeletics-workouts/freeletics-venus/\n",
      "http://bodyweight-workout.com/en/freeletics-workouts/freeletics-zeus/\n"
     ]
    }
   ],
   "source": [
    "images = []\n",
    "def getImages(link):\n",
    "    # query the website and return the html to the variable ‘page’\n",
    "    page = urllib2.urlopen(link)\n",
    "    soup = BeautifulSoup(page, 'html.parser')\n",
    "    found = soup.select('.tabbed-content img')\n",
    "    for image in found:\n",
    "        images.append(image.attrs['src'])\n",
    "    \n",
    "\n",
    "for link in allLinks:\n",
    "    getImages(link.attrs['href'])\n",
    "    print link.attrs['href']"
   ]
  },
  {
   "cell_type": "code",
   "execution_count": 17,
   "metadata": {
    "collapsed": true
   },
   "outputs": [],
   "source": [
    "import urllib\n",
    "import re"
   ]
  },
  {
   "cell_type": "code",
   "execution_count": 25,
   "metadata": {},
   "outputs": [
    {
     "name": "stdout",
     "output_type": "stream",
     "text": [
      "http://bodyweight-workout.iksolution.netdna-cdn.com/wp-content/uploads/2016/04/Aphrodite_Endurance.jpg?x28397\n",
      "Aphrodite_Endurance.jpg\n",
      "http://bodyweight-workout.iksolution.netdna-cdn.com/wp-content/uploads/2016/04/Aphrodite_Standard.jpg?x28397\n",
      "Aphrodite_Standard.jpg\n",
      "http://bodyweight-workout.iksolution.netdna-cdn.com/wp-content/uploads/2016/04/Aphrodite_Strength.jpg?x28397\n",
      "Aphrodite_Strength.jpg\n",
      "http://bodyweight-workout.iksolution.netdna-cdn.com/wp-content/uploads/2016/04/Apollon_Endurance.jpg?x28397\n",
      "Apollon_Endurance.jpg\n",
      "http://bodyweight-workout.iksolution.netdna-cdn.com/wp-content/uploads/2016/04/Apollon_Standard.jpg?x28397\n",
      "Apollon_Standard.jpg\n",
      "http://bodyweight-workout.iksolution.netdna-cdn.com/wp-content/uploads/2016/04/Apollon_Strength.jpg?x28397\n",
      "Apollon_Strength.jpg\n",
      "http://bodyweight-workout.iksolution.netdna-cdn.com/wp-content/uploads/2016/04/Ares_Endurance.jpg?x28397\n",
      "Ares_Endurance.jpg\n",
      "http://bodyweight-workout.iksolution.netdna-cdn.com/wp-content/uploads/2016/04/Ares_Standard.jpg?x28397\n",
      "Ares_Standard.jpg\n",
      "http://bodyweight-workout.iksolution.netdna-cdn.com/wp-content/uploads/2016/04/Ares_Strength.jpg?x28397\n",
      "Ares_Strength.jpg\n",
      "http://bodyweight-workout.iksolution.netdna-cdn.com/wp-content/uploads/2016/04/Artemis_Endurance.jpg?x28397\n",
      "Artemis_Endurance.jpg\n",
      "http://bodyweight-workout.iksolution.netdna-cdn.com/wp-content/uploads/2016/04/Artemis_Standard.jpg?x28397\n",
      "Artemis_Standard.jpg\n",
      "http://bodyweight-workout.iksolution.netdna-cdn.com/wp-content/uploads/2016/04/Artemis_Strength.jpg?x28397\n",
      "Artemis_Strength.jpg\n",
      "http://bodyweight-workout.iksolution.netdna-cdn.com/wp-content/uploads/2016/04/Athena_Endurance.jpg?x28397\n",
      "Athena_Endurance.jpg\n",
      "http://bodyweight-workout.iksolution.netdna-cdn.com/wp-content/uploads/2016/04/Athena_Standard.jpg?x28397\n",
      "Athena_Standard.jpg\n",
      "http://bodyweight-workout.iksolution.netdna-cdn.com/wp-content/uploads/2016/04/Athena_Strength.jpg?x28397\n",
      "Athena_Strength.jpg\n",
      "http://bodyweight-workout.iksolution.netdna-cdn.com/wp-content/uploads/2016/04/Atlas_Endurance.jpg?x28397\n",
      "Atlas_Endurance.jpg\n",
      "http://bodyweight-workout.iksolution.netdna-cdn.com/wp-content/uploads/2016/04/Atlas_Standard.jpg?x28397\n",
      "Atlas_Standard.jpg\n",
      "http://bodyweight-workout.iksolution.netdna-cdn.com/wp-content/uploads/2016/04/Atlas_Strength.jpg?x28397\n",
      "Atlas_Strength.jpg\n",
      "http://bodyweight-workout.iksolution.netdna-cdn.com/wp-content/uploads/2016/04/Dione_Endurance.jpg?x28397\n",
      "Dione_Endurance.jpg\n",
      "http://bodyweight-workout.iksolution.netdna-cdn.com/wp-content/uploads/2016/04/Dione_Standard_english.jpg?x28397\n",
      "Dione_Standard_english.jpg\n",
      "http://bodyweight-workout.iksolution.netdna-cdn.com/wp-content/uploads/2016/04/Dione_Strength.jpg?x28397\n",
      "Dione_Strength.jpg\n",
      "http://bodyweight-workout.iksolution.netdna-cdn.com/wp-content/uploads/2016/04/Gaia_Endurance.jpg?x28397\n",
      "Gaia_Endurance.jpg\n",
      "http://bodyweight-workout.iksolution.netdna-cdn.com/wp-content/uploads/2016/04/Gaia_Standard.jpg?x28397\n",
      "Gaia_Standard.jpg\n",
      "http://bodyweight-workout.iksolution.netdna-cdn.com/wp-content/uploads/2016/04/Gaia_Strength.jpg?x28397\n",
      "Gaia_Strength.jpg\n",
      "http://bodyweight-workout.iksolution.netdna-cdn.com/wp-content/uploads/2016/04/Hades_Endurance.jpg?x28397\n",
      "Hades_Endurance.jpg\n",
      "http://bodyweight-workout.iksolution.netdna-cdn.com/wp-content/uploads/2016/04/Hades_Standard.jpg?x28397\n",
      "Hades_Standard.jpg\n",
      "http://bodyweight-workout.iksolution.netdna-cdn.com/wp-content/uploads/2016/04/Hades_Strength.jpg?x28397\n",
      "Hades_Strength.jpg\n",
      "http://bodyweight-workout.iksolution.netdna-cdn.com/wp-content/uploads/2016/04/Helios_Endurance.jpg?x28397\n",
      "Helios_Endurance.jpg\n",
      "http://bodyweight-workout.iksolution.netdna-cdn.com/wp-content/uploads/2016/04/Helios_Standard.jpg?x28397\n",
      "Helios_Standard.jpg\n",
      "http://bodyweight-workout.iksolution.netdna-cdn.com/wp-content/uploads/2016/04/Helios_Strength.jpg?x28397\n",
      "Helios_Strength.jpg\n",
      "http://bodyweight-workout.iksolution.netdna-cdn.com/wp-content/uploads/2016/04/Hera_Endurance.jpg?x28397\n",
      "Hera_Endurance.jpg\n",
      "http://bodyweight-workout.iksolution.netdna-cdn.com/wp-content/uploads/2016/04/Hera_Standard.jpg?x28397\n",
      "Hera_Standard.jpg\n",
      "http://bodyweight-workout.iksolution.netdna-cdn.com/wp-content/uploads/2016/04/Hera_Strength.jpg?x28397\n",
      "Hera_Strength.jpg\n",
      "http://bodyweight-workout.iksolution.netdna-cdn.com/wp-content/uploads/2016/04/Hermes_Endurance.jpg?x28397\n",
      "Hermes_Endurance.jpg\n",
      "http://bodyweight-workout.iksolution.netdna-cdn.com/wp-content/uploads/2016/04/Hermes_Standard.jpg?x28397\n",
      "Hermes_Standard.jpg\n",
      "http://bodyweight-workout.iksolution.netdna-cdn.com/wp-content/uploads/2016/04/Hermes_Strength-1.jpg?x28397\n",
      "Hermes_Strength-1.jpg\n",
      "http://bodyweight-workout.iksolution.netdna-cdn.com/wp-content/uploads/2016/04/Hyperion_Endurance.jpg?x28397\n",
      "Hyperion_Endurance.jpg\n",
      "http://bodyweight-workout.iksolution.netdna-cdn.com/wp-content/uploads/2016/04/Hyperion_Standard.jpg?x28397\n",
      "Hyperion_Standard.jpg\n",
      "http://bodyweight-workout.iksolution.netdna-cdn.com/wp-content/uploads/2016/04/Hyperion_Strength.jpg?x28397\n",
      "Hyperion_Strength.jpg\n",
      "http://bodyweight-workout.iksolution.netdna-cdn.com/wp-content/uploads/2016/04/Iris_Endurance.jpg?x28397\n",
      "Iris_Endurance.jpg\n",
      "http://bodyweight-workout.iksolution.netdna-cdn.com/wp-content/uploads/2016/04/Iris_Standard.jpg?x28397\n",
      "Iris_Standard.jpg\n",
      "http://bodyweight-workout.iksolution.netdna-cdn.com/wp-content/uploads/2016/04/Iris_Strength.jpg?x28397\n",
      "Iris_Strength.jpg\n",
      "http://bodyweight-workout.iksolution.netdna-cdn.com/wp-content/uploads/2016/04/Kentauros_Endurance.jpg?x28397\n",
      "Kentauros_Endurance.jpg\n",
      "http://bodyweight-workout.iksolution.netdna-cdn.com/wp-content/uploads/2016/04/Kentauros_Standard.jpg?x28397\n",
      "Kentauros_Standard.jpg\n",
      "http://bodyweight-workout.iksolution.netdna-cdn.com/wp-content/uploads/2016/04/Kentauros_Strength.jpg?x28397\n",
      "Kentauros_Strength.jpg\n",
      "http://bodyweight-workout.iksolution.netdna-cdn.com/wp-content/uploads/2016/04/Krios_Endurance.jpg?x28397\n",
      "Krios_Endurance.jpg\n",
      "http://bodyweight-workout.iksolution.netdna-cdn.com/wp-content/uploads/2016/04/Krios_Standard.jpg?x28397\n",
      "Krios_Standard.jpg\n",
      "http://bodyweight-workout.iksolution.netdna-cdn.com/wp-content/uploads/2016/04/Krios_Strength.jpg?x28397\n",
      "Krios_Strength.jpg\n",
      "http://bodyweight-workout.iksolution.netdna-cdn.com/wp-content/uploads/2016/04/Kronos_Endurance.jpg?x28397\n",
      "Kronos_Endurance.jpg\n",
      "http://bodyweight-workout.iksolution.netdna-cdn.com/wp-content/uploads/2016/04/Kronos_Standard.jpg?x28397\n",
      "Kronos_Standard.jpg\n",
      "http://bodyweight-workout.iksolution.netdna-cdn.com/wp-content/uploads/2016/04/Kronos_Strength.jpg?x28397\n",
      "Kronos_Strength.jpg\n",
      "http://bodyweight-workout.iksolution.netdna-cdn.com/wp-content/uploads/2016/04/Metis_Endurance.jpg?x28397\n",
      "Metis_Endurance.jpg\n",
      "http://bodyweight-workout.iksolution.netdna-cdn.com/wp-content/uploads/2016/04/Metis_Standard.jpg?x28397\n",
      "Metis_Standard.jpg\n",
      "http://bodyweight-workout.iksolution.netdna-cdn.com/wp-content/uploads/2016/04/Metis_Strength.jpg?x28397\n",
      "Metis_Strength.jpg\n",
      "http://bodyweight-workout.iksolution.netdna-cdn.com/wp-content/uploads/2016/04/Morpheus_Endurance.jpg?x28397\n",
      "Morpheus_Endurance.jpg\n",
      "http://bodyweight-workout.iksolution.netdna-cdn.com/wp-content/uploads/2016/04/Morpheus_Standard.jpg?x28397\n",
      "Morpheus_Standard.jpg\n",
      "http://bodyweight-workout.iksolution.netdna-cdn.com/wp-content/uploads/2016/04/Morpheus_Strength.jpg?x28397\n",
      "Morpheus_Strength.jpg\n",
      "http://bodyweight-workout.iksolution.netdna-cdn.com/wp-content/uploads/2016/04/Nemesis_Endurance.jpg?x28397\n",
      "Nemesis_Endurance.jpg\n",
      "http://bodyweight-workout.iksolution.netdna-cdn.com/wp-content/uploads/2016/04/Nemesis_Standard.jpg?x28397\n",
      "Nemesis_Standard.jpg\n",
      "http://bodyweight-workout.iksolution.netdna-cdn.com/wp-content/uploads/2016/04/Nemesis_Strength-1.jpg?x28397\n",
      "Nemesis_Strength-1.jpg\n",
      "http://bodyweight-workout.iksolution.netdna-cdn.com/wp-content/uploads/2016/04/Nyx_Endurance.jpg?x28397\n",
      "Nyx_Endurance.jpg\n",
      "http://bodyweight-workout.iksolution.netdna-cdn.com/wp-content/uploads/2016/04/Nyx_Standard.jpg?x28397\n",
      "Nyx_Standard.jpg\n",
      "http://bodyweight-workout.iksolution.netdna-cdn.com/wp-content/uploads/2016/04/Nyx_Strength.jpg?x28397\n",
      "Nyx_Strength.jpg\n",
      "http://bodyweight-workout.iksolution.netdna-cdn.com/wp-content/uploads/2016/04/Persephone_Endurance-1.jpg?x28397\n",
      "Persephone_Endurance-1.jpg\n",
      "http://bodyweight-workout.iksolution.netdna-cdn.com/wp-content/uploads/2016/04/Persephone_Standard.jpg?x28397\n",
      "Persephone_Standard.jpg\n",
      "http://bodyweight-workout.iksolution.netdna-cdn.com/wp-content/uploads/2016/04/Persephone_Strength.jpg?x28397\n",
      "Persephone_Strength.jpg\n",
      "http://bodyweight-workout.iksolution.netdna-cdn.com/wp-content/uploads/2016/04/Poseidon_Endurance.jpg?x28397\n",
      "Poseidon_Endurance.jpg\n",
      "http://bodyweight-workout.iksolution.netdna-cdn.com/wp-content/uploads/2016/04/Poseidon_Standard.jpg?x28397\n",
      "Poseidon_Standard.jpg\n"
     ]
    },
    {
     "name": "stdout",
     "output_type": "stream",
     "text": [
      "http://bodyweight-workout.iksolution.netdna-cdn.com/wp-content/uploads/2016/04/Poseidon_Strength.jpg?x28397\n",
      "Poseidon_Strength.jpg\n",
      "http://bodyweight-workout.iksolution.netdna-cdn.com/wp-content/uploads/2016/04/Prometheus_Endurance.jpg?x28397\n",
      "Prometheus_Endurance.jpg\n",
      "http://bodyweight-workout.iksolution.netdna-cdn.com/wp-content/uploads/2016/04/Prometheus_Standard-1.jpg?x28397\n",
      "Prometheus_Standard-1.jpg\n",
      "http://bodyweight-workout.iksolution.netdna-cdn.com/wp-content/uploads/2016/04/Prometheus_Strength.jpg?x28397\n",
      "Prometheus_Strength.jpg\n",
      "http://bodyweight-workout.iksolution.netdna-cdn.com/wp-content/uploads/2016/04/Thanatos_Endurance.jpg?x28397\n",
      "Thanatos_Endurance.jpg\n",
      "http://bodyweight-workout.iksolution.netdna-cdn.com/wp-content/uploads/2016/04/Thanatos_Standard.jpg?x28397\n",
      "Thanatos_Standard.jpg\n",
      "http://bodyweight-workout.iksolution.netdna-cdn.com/wp-content/uploads/2016/04/Thanatos_Strength.jpg?x28397\n",
      "Thanatos_Strength.jpg\n",
      "http://bodyweight-workout.iksolution.netdna-cdn.com/wp-content/uploads/2016/04/Triton_Endurance.jpg?x28397\n",
      "Triton_Endurance.jpg\n",
      "http://bodyweight-workout.iksolution.netdna-cdn.com/wp-content/uploads/2016/04/Triton_Standard.jpg?x28397\n",
      "Triton_Standard.jpg\n",
      "http://bodyweight-workout.iksolution.netdna-cdn.com/wp-content/uploads/2016/04/Triton_Strength.jpg?x28397\n",
      "Triton_Strength.jpg\n",
      "http://bodyweight-workout.iksolution.netdna-cdn.com/wp-content/uploads/2016/04/Uranos_Endurance.jpg?x28397\n",
      "Uranos_Endurance.jpg\n",
      "http://bodyweight-workout.iksolution.netdna-cdn.com/wp-content/uploads/2016/04/Uranos_Standard.jpg?x28397\n",
      "Uranos_Standard.jpg\n",
      "http://bodyweight-workout.iksolution.netdna-cdn.com/wp-content/uploads/2016/04/Uranos_Strength.jpg?x28397\n",
      "Uranos_Strength.jpg\n",
      "http://bodyweight-workout.iksolution.netdna-cdn.com/wp-content/uploads/2016/04/Venus_Endurance.jpg?x28397\n",
      "Venus_Endurance.jpg\n",
      "http://bodyweight-workout.iksolution.netdna-cdn.com/wp-content/uploads/2016/04/Venus_Standard.jpg?x28397\n",
      "Venus_Standard.jpg\n",
      "http://bodyweight-workout.iksolution.netdna-cdn.com/wp-content/uploads/2016/04/Venus_Strength.jpg?x28397\n",
      "Venus_Strength.jpg\n",
      "http://bodyweight-workout.iksolution.netdna-cdn.com/wp-content/uploads/2016/04/Zeus_Endurance.jpg?x28397\n",
      "Zeus_Endurance.jpg\n",
      "http://bodyweight-workout.iksolution.netdna-cdn.com/wp-content/uploads/2016/04/Zeus_Standard.jpg?x28397\n",
      "Zeus_Standard.jpg\n",
      "http://bodyweight-workout.iksolution.netdna-cdn.com/wp-content/uploads/2016/04/Zeus_Strength.jpg?x28397\n",
      "Zeus_Strength.jpg\n",
      "Downloaded 87\n"
     ]
    }
   ],
   "source": [
    "downloaded = 0\n",
    "for item in images:\n",
    "    print item\n",
    "    imageName = re.search('\\/((\\w|-)*\\.jpg)', str(item), re.MULTILINE).group(1)\n",
    "    print imageName\n",
    "    response = urllib2.urlopen(item)\n",
    "    file = open( './images/'+imageName, 'w')\n",
    "    file.write(response.read())\n",
    "    file.close()\n",
    "    downloaded += 1\n",
    "\n",
    "print(\"Downloaded %i\" % downloaded)"
   ]
  },
  {
   "cell_type": "code",
   "execution_count": null,
   "metadata": {
    "collapsed": true
   },
   "outputs": [],
   "source": []
  }
 ],
 "metadata": {
  "kernelspec": {
   "display_name": "Python 2",
   "language": "python",
   "name": "python2"
  },
  "language_info": {
   "codemirror_mode": {
    "name": "ipython",
    "version": 2
   },
   "file_extension": ".py",
   "mimetype": "text/x-python",
   "name": "python",
   "nbconvert_exporter": "python",
   "pygments_lexer": "ipython2",
   "version": "2.7.13"
  }
 },
 "nbformat": 4,
 "nbformat_minor": 2
}
